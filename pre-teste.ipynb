{
 "cells": [
  {
   "cell_type": "code",
   "execution_count": null,
   "id": "382a1291",
   "metadata": {},
   "outputs": [
    {
     "name": "stdout",
     "output_type": "stream",
     "text": [
      "3\n",
      "Você errou. O número que você inseriu é maior que o sorteado\n",
      "3\n",
      "Você errou. O número que você inseriu é menor que o sorteado\n",
      "3\n",
      "Você errou. O número que você inseriu é menor que o sorteado\n",
      "3\n",
      "Você errou. O número que você inseriu é maior que o sorteado\n",
      "3\n",
      "Você errou. O número que você inseriu é maior que o sorteado\n",
      "3\n",
      "Você errou. O número que você inseriu é maior que o sorteado\n",
      "3\n",
      "Você errou. O número que você inseriu é maior que o sorteado\n",
      "3\n",
      "Você acertou o número sorteado.\n"
     ]
    }
   ],
   "source": [
    "# Sorteio de números\n",
    "import random\n",
    "\n",
    "aleatorio = random.randint(0,10)\n",
    "\n",
    "def ask():\n",
    "    chute = int(input('Insira seu chute: '))\n",
    "    check(chute)\n",
    "\n",
    "def check(chute: int):\n",
    "    if chute == aleatorio:\n",
    "        print('Você acertou o número sorteado.')\n",
    "    else:\n",
    "        if (chute > aleatorio):\n",
    "            print(\"Você errou. O número que você inseriu é maior que o sorteado\")\n",
    "        if (chute < aleatorio):\n",
    "            print(\"Você errou. O número que você inseriu é menor que o sorteado\")\n",
    "        ask()\n",
    "\n",
    "ask()"
   ]
  },
  {
   "cell_type": "code",
   "execution_count": null,
   "id": "62a7b0d2",
   "metadata": {},
   "outputs": [],
   "source": []
  }
 ],
 "metadata": {
  "kernelspec": {
   "display_name": "Python 3",
   "language": "python",
   "name": "python3"
  },
  "language_info": {
   "codemirror_mode": {
    "name": "ipython",
    "version": 3
   },
   "file_extension": ".py",
   "mimetype": "text/x-python",
   "name": "python",
   "nbconvert_exporter": "python",
   "pygments_lexer": "ipython3",
   "version": "3.10.4"
  }
 },
 "nbformat": 4,
 "nbformat_minor": 5
}
